{
 "cells": [
  {
   "cell_type": "code",
   "execution_count": 0,
   "metadata": {
    "application/vnd.databricks.v1+cell": {
     "cellMetadata": {
      "byteLimit": 2048000,
      "rowLimit": 10000
     },
     "inputWidgets": {},
     "nuid": "4c97786e-3be9-4fb4-9729-b0ae253309b7",
     "showTitle": false,
     "tableResultSettingsMap": {},
     "title": ""
    }
   },
   "outputs": [],
   "source": [
    "dbutils.secrets.list(\"kv-secret\")"
   ]
  },
  {
   "cell_type": "code",
   "execution_count": 0,
   "metadata": {
    "application/vnd.databricks.v1+cell": {
     "cellMetadata": {
      "byteLimit": 2048000,
      "rowLimit": 10000
     },
     "inputWidgets": {},
     "nuid": "c5c8976b-b2b4-4002-b666-fe0d50c3e907",
     "showTitle": false,
     "tableResultSettingsMap": {},
     "title": ""
    }
   },
   "outputs": [],
   "source": [
    "%python\n",
    "dbutils.secrets.list(\"kv-secret\")"
   ]
  },
  {
   "cell_type": "code",
   "execution_count": 0,
   "metadata": {
    "application/vnd.databricks.v1+cell": {
     "cellMetadata": {},
     "inputWidgets": {},
     "nuid": "8460aa96-a625-41fa-a9cf-1d29a5e2ec96",
     "showTitle": false,
     "tableResultSettingsMap": {},
     "title": ""
    }
   },
   "outputs": [],
   "source": [
    "import requests\n",
    "import json\n",
    "from azure.identity import CertificateCredential\n",
    "\n",
    "client_id = dbutils.secrets.get(\"kv-secrets\", \"app-clientid\")\n",
    "client_certificate = dbutils.secrets.get(\"kv-secrets\", \"SAnDP-Torus-SNI-Int-Cert\")\n",
    "tenant_id = dbutils.secrets.get('kv-secrets','torus-tenantid')\n",
    "\n",
    "# Resource for which you need a token\n",
    "resourceAPI = \"https://api.support.microsoft.com\"\n",
    "TokenAPI = \"https://login.windows.net/microsoft.onmicrosoft.com/oauth2/token\"\n",
    "TokenResourceAPI = \"https://MSAzureCloud.onmicrosoft.com/msegapi/.default\"\n",
    "\n",
    "sandp_torus_sni_certificate_data = base64.b64decode(client_certificate)\n",
    "\n",
    "AuthenticationPL = CertificateCredential(\n",
    "tenant_id = tenant_id,\n",
    "client_id = client_id,\n",
    "certificate_data = sandp_torus_sni_certificate_data,\n",
    "send_certificate_chain = True\n",
    ")"
   ]
  },
  {
   "cell_type": "code",
   "execution_count": 0,
   "metadata": {
    "application/vnd.databricks.v1+cell": {
     "cellMetadata": {},
     "inputWidgets": {},
     "nuid": "6b4ff27e-4b04-4b52-ad4a-0402cc67a19a",
     "showTitle": false,
     "tableResultSettingsMap": {},
     "title": ""
    }
   },
   "outputs": [],
   "source": [
    "# Send a POST request to the token endpoint\n",
    "Authentication_response = AuthenticationPL.get_token(TokenResourceAPI)\n",
    "\n",
    "# Check if the request was successful (HTTP 200 OK)\n",
    "if len(Authentication_response.token) > 0:\n",
    "    # Extract the access token from the response\n",
    "    access_token = Authentication_response.token\n",
    "else:\n",
    "    print(\"Token retrieval failed. Status code:\", Authentication_response.status_code)\n",
    "    raise\n",
    "\n",
    "\n",
    "# Bearer token\n",
    "bearer_token = access_token\n",
    "\n",
    "# Set the Authorization header with the bearer token\n",
    "Authorization_Headers = {\"Authorization\": f\"Bearer {bearer_token}\"}"
   ]
  },
  {
   "cell_type": "code",
   "execution_count": 0,
   "metadata": {
    "application/vnd.databricks.v1+cell": {
     "cellMetadata": {},
     "inputWidgets": {},
     "nuid": "9b2ed5e6-8330-4189-8230-0a37041f6731",
     "showTitle": false,
     "tableResultSettingsMap": {},
     "title": ""
    }
   },
   "outputs": [],
   "source": [
    "TopLevelAPI_response = requests.get(\n",
    "    resourceAPI + \"/v1/sap/toplevels/?state=Preview,Retired,Public\",\n",
    "    headers=Authorization_Headers,\n",
    ")\n",
    "\n",
    "# Check the response status\n",
    "if TopLevelAPI_response.status_code == 200:\n",
    "    # Data retrieval successful\n",
    "    TopLevel_Data = TopLevelAPI_response.json()\n",
    "else:\n",
    "    # Error handling\n",
    "    print(\"Error:\", TopLevelAPI_response.status_code)\n",
    "    print(TopLevelAPI_response.text)\n",
    "    raise"
   ]
  },
  {
   "cell_type": "code",
   "execution_count": 0,
   "metadata": {
    "application/vnd.databricks.v1+cell": {
     "cellMetadata": {},
     "inputWidgets": {},
     "nuid": "058750f5-108a-4841-a212-f44c7bcf639c",
     "showTitle": false,
     "tableResultSettingsMap": {},
     "title": ""
    }
   },
   "outputs": [],
   "source": [
    "import requests\n",
    "import json\n",
    "from azure.identity import CertificateCredential\n",
    "import base64\n",
    " \n",
    "client_id = dbutils.secrets.get(\"kv-secrets\", \"app-clientid\")\n",
    "client_certificate = dbutils.secrets.get(\"kv-secrets\", \"SAnDP-Torus-SNI-Int-Cert\")\n",
    "tenant_id = dbutils.secrets.get('kv-secrets','torus-tenantid')\n",
    " \n",
    "# Resource for which you need a token\n",
    "resourceAPI = \"https://api.support.microsoft.com\"  ### Actual data api base url\n",
    " \n",
    "TokenResourceAPI = \"https://MSAzureCloud.onmicrosoft.com/msegapi/.default\"  ### where token is present that linke\n",
    " \n",
    "sandp_torus_sni_certificate_data = base64.b64decode(client_certificate)\n",
    " \n",
    "AuthenticationPL = CertificateCredential(\n",
    "tenant_id = tenant_id,\n",
    "client_id = client_id,\n",
    "certificate_data = sandp_torus_sni_certificate_data,\n",
    "send_certificate_chain = True\n",
    ")\n",
    " \n",
    "###Here we will get get token for token , so later we can access\n",
    "# Send a POST request to the token endpoint\n",
    "Authentication_response = AuthenticationPL.get_token(TokenResourceAPI)\n",
    " \n",
    "# Check if the request was successful (HTTP 200 OK)\n",
    "if len(Authentication_response.token) > 0:\n",
    "    # Extract the access token from the response\n",
    "    access_token = Authentication_response.token\n",
    "else:\n",
    "    print(\"Token retrieval failed. Status code:\", Authentication_response.status_code)\n",
    "    raise\n",
    " \n",
    " \n",
    "# Bearer token\n",
    "bearer_token = access_token\n",
    " \n",
    "# Set the Authorization header with the bearer token\n",
    "Authorization_Headers = {\"Authorization\": f\"Bearer {bearer_token}\"}\n",
    " \n",
    "### Get your actual data from data present api\n",
    " \n",
    "TopLevelAPI_response = requests.get(\n",
    "    resourceAPI + \"/v1/sap/toplevels/?state=Preview,Retired,Public\",\n",
    "    headers=Authorization_Headers,\n",
    ")\n",
    " \n",
    "# Check the response status\n",
    "if TopLevelAPI_response.status_code == 200:\n",
    "    # Data retrieval successful\n",
    "    TopLevel_Data = TopLevelAPI_response.json()\n",
    "else:\n",
    "    # Error handling\n",
    "    print(\"Error:\", TopLevelAPI_response.status_code)\n",
    "    print(TopLevelAPI_response.text)\n",
    "    raise"
   ]
  }
 ],
 "metadata": {
  "application/vnd.databricks.v1+notebook": {
   "computePreferences": null,
   "dashboards": [],
   "environmentMetadata": {
    "base_environment": "",
    "environment_version": "2"
   },
   "language": "python",
   "notebookMetadata": {
    "pythonIndentUnit": 4
   },
   "notebookName": "Pulling data from api",
   "widgets": {}
  },
  "language_info": {
   "name": "python"
  }
 },
 "nbformat": 4,
 "nbformat_minor": 0
}
